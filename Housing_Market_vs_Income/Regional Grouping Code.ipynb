{
 "cells": [
  {
   "cell_type": "code",
   "execution_count": null,
   "id": "2f2d694b",
   "metadata": {},
   "outputs": [],
   "source": [
    "#calling on series to find the median of mortgage and income for the years 2011 to 2019\n",
    "national_df = df[['2019 Household Income', '2019 Median Mortgage Cost', \n",
    "         '2018 Household Income', '2018 Median Mortgage Cost', \n",
    "         '2017 Household Income', '2017 Median Mortgage Cost', \n",
    "         '2016 Household Income', '2016 Median Mortgage Cost', \n",
    "         '2015 Household Income', '2015 Median Mortgage Cost',\n",
    "         '2014 Household Income', '2014 Median Mortgage Cost', \n",
    "         '2013 Household Income', '2013 Median Mortgage Cost', \n",
    "         '2012 Household Income', '2012 Median Mortgage Cost', \n",
    "         '2011 Household Income', '2011 Median Mortgage Cost']].median()\n",
    "national_df"
   ]
  },
  {
   "cell_type": "code",
   "execution_count": null,
   "id": "b091cc5b",
   "metadata": {},
   "outputs": [],
   "source": [
    "# creating a variable \"National\" that includes all states and DC\n",
    "\n",
    "National = [\"Region\": \"Northeast\", \"South\", \"Midwest\", \"West\"]"
   ]
  },
  {
   "cell_type": "code",
   "execution_count": null,
   "id": "24ec3894",
   "metadata": {},
   "outputs": [],
   "source": []
  },
  {
   "cell_type": "code",
   "execution_count": null,
   "id": "3a5edc47",
   "metadata": {},
   "outputs": [],
   "source": [
    "# creating a dictionary \n",
    "\n",
    "{\"Region\", ['West': \"AK\", \"HI\", \"CA\", \"NV\", \"OR\", \"WA\", \"ID\", \"MT\", \"CO\", \"WY\", \"UT\", \"AZ\", \"NM\"],\n",
    "\n",
    "['Midwest': \"ND\", \"SD\", \"NE\", \"KS\", \"MN\", \"IA\", \"MO\", \"WI\", \"IL\", \"MI\", \"IN\", \"OH\"],\n",
    "\n",
    "['South': \"[TX\", \"OK\", \"AR\", \"LA\", \"AL\", \"MI\", \"GA\", \"FL\", \"KY\", \"TN\", \"NC\", \"SC\" \"VA\", \"WV\"],\n",
    "\n",
    "['Northeast' = [\"ME\", \"NH\", \"VT\", \"MA\", \"CT\", \"RI\", \"NY\", \"PA\", \"NJ\", \"MD\", \"DE\", \"DC\"]\n",
    " }\n"
   ]
  },
  {
   "cell_type": "code",
   "execution_count": null,
   "id": "18ca99b5",
   "metadata": {},
   "outputs": [],
   "source": [
    "#Creating a new column called \"Region\" to store assigned variables\n",
    "df = df.assign(\"Region\" = \"State\")"
   ]
  },
  {
   "cell_type": "code",
   "execution_count": null,
   "id": "a8760d30",
   "metadata": {},
   "outputs": [],
   "source": [
    "# looping through the states to assign a region\n",
    "Loop through df.state\n",
    "    For value in df.state\n",
    "        If \n",
    "            df.state = df.state(\"AK\", \"HI\", \"CA\", \"NV\", \"OR\", \"WA\", \"ID\", \"MT\", \"CO\", \"WY\", \"UT\", \"AZ\", \"NM\")\n",
    "               Then print \"West\" in df.series(\"Region\")\n",
    "            df.state = df.state(\"ND\", \"SD\", \"NE\", \"KS\", \"MN\", \"IA\", \"MO\", \"WI\", \"IL\", \"MI\", \"IN\", \"OH\")\n",
    "               Else print \"Midwest\" in df.series(\"Region\")\n",
    "            df.state = df.state(\"TX\", \"OK\", \"AR\", \"LA\", \"AL\", \"MI\", \"GA\", \"FL\", \"KY\", \"TN\", \"NC\", \"SC\" \"VA\", \"WV\")\n",
    "               Else print \"South\" in df.series(\"Region\")\n",
    "            df.state = df.state(\"ME\", \"NH\", \"VT\", \"MA\", \"CT\", \"RI\", \"NY\", \"PA\", \"NJ\", \"MD\", \"DE\", \"DC\")\n",
    "               Else print \"Northeast\" in df.series(\"Region\")\n",
    "                    #Now that we have regions defined, we need to calculate the median mortgage and income\n",
    "                    #for each year in the data series \n",
    "                    \n",
    "            Elseif\n",
    "        End\n",
    "    Exit\n",
    "    "
   ]
  },
  {
   "cell_type": "code",
   "execution_count": null,
   "id": "a085481a",
   "metadata": {},
   "outputs": [],
   "source": [
    "#grouping dataframe by year and region to loop through and calculate median income and mortgage payment for each re\n",
    "groupby_year_df = condensed_df({'Year' : ['2011', '2012', '2013', '2014',\n",
    "                                                              '2015', '2016', '2017', '2018', '2019'],\n",
    "                                                        'Region': ['West', 'Midwest', 'South', 'North']})\n",
    "    groupby region\n",
    "        for \"Median Household Income\" in df[['West', 'Midwest', 'South', 'Northeast']].median()\n",
    "        for \"Median Mortgage Payment\" in df[['West', 'Midwest', 'South', 'Northeast']].median()"
   ]
  },
  {
   "cell_type": "code",
   "execution_count": null,
   "id": "f37bf582",
   "metadata": {},
   "outputs": [],
   "source": [
    "# creating new dataframe that contains state, region, median income, median mortgage, and year\n",
    "# extracting the columns: \"Year\", \"region\", \"state\", \"median household income\", \"median mortgage payment\"\n",
    "reduced_df = combined_df[[\"Year\", \"Region\", \"State\", \"Median household income\", \n",
    "                          \"Median mortgage payment\"]]\n",
    "reduced_df.head()\n"
   ]
  },
  {
   "cell_type": "code",
   "execution_count": null,
   "id": "6d808588",
   "metadata": {},
   "outputs": [],
   "source": []
  },
  {
   "cell_type": "code",
   "execution_count": 1,
   "id": "b2733e5e",
   "metadata": {},
   "outputs": [
    {
     "ename": "NameError",
     "evalue": "name 'clean_df' is not defined",
     "output_type": "error",
     "traceback": [
      "\u001b[1;31m---------------------------------------------------------------------------\u001b[0m",
      "\u001b[1;31mNameError\u001b[0m                                 Traceback (most recent call last)",
      "\u001b[1;32m<ipython-input-1-bf99d5039335>\u001b[0m in \u001b[0;36m<module>\u001b[1;34m\u001b[0m\n\u001b[0;32m      1\u001b[0m \u001b[1;31m#changing name of series to state code from state\u001b[0m\u001b[1;33m\u001b[0m\u001b[1;33m\u001b[0m\u001b[1;33m\u001b[0m\u001b[0m\n\u001b[1;32m----> 2\u001b[1;33m \u001b[0mrenamed_df\u001b[0m \u001b[1;33m=\u001b[0m \u001b[0mclean_df\u001b[0m\u001b[1;33m.\u001b[0m\u001b[0mrename\u001b[0m\u001b[1;33m(\u001b[0m\u001b[0mcolumns\u001b[0m\u001b[1;33m=\u001b[0m\u001b[1;33m{\u001b[0m\u001b[1;34m\"state\"\u001b[0m\u001b[1;33m:\u001b[0m \u001b[1;34m\"State Code\"\u001b[0m\u001b[1;33m}\u001b[0m\u001b[1;33m)\u001b[0m\u001b[1;33m\u001b[0m\u001b[1;33m\u001b[0m\u001b[0m\n\u001b[0m\u001b[0;32m      3\u001b[0m \u001b[0mrenamed_df\u001b[0m\u001b[1;33m\u001b[0m\u001b[1;33m\u001b[0m\u001b[0m\n",
      "\u001b[1;31mNameError\u001b[0m: name 'clean_df' is not defined"
     ]
    }
   ],
   "source": [
    "# creating new data frame for national median groupby year"
   ]
  },
  {
   "cell_type": "code",
   "execution_count": null,
   "id": "d55dfe74",
   "metadata": {},
   "outputs": [],
   "source": [
    "# getting national median household incomes and \n",
    "\n",
    "median_housing2011 = df.series.median(\"median mortgage 2011\")\n",
    "median_housing2012 = df.series.median(\"median mortgage 2012\")\n",
    "median_housing2013 = df.series.median(\"median mortgage 2013\")\n",
    "median_housing2014 = df.series.median(\"median mortgage 2014\")\n",
    "median_housing2015 = df.series.median(\"median mortgage 2015\")\n",
    "median_housing2016 = df.series.median(\"median mortgage 2016\")\n",
    "median_housing2017 = df.series.median(\"median mortgage 2017\")\n",
    "median_housing2018 = df.series.median(\"median mortgage 2018\")\n",
    "median_housing2019 = df.series.median(\"median mortgage 2019\")\n",
    "\n",
    "median_income2011 = df.series.median(\"median household income 2011\")\n",
    "median_income2012 = df.series.median(\"median household income 2012\")\n",
    "median_income2013 = df.series.median(\"median household income 2013\")\n",
    "median_income2014 = df.series.median(\"median household income 2014\")\n",
    "median_income2015 = df.series.median(\"median household income 2015\")\n",
    "median_income2016 = df.series.median(\"median household income 2016\")\n",
    "median_income2017 = df.series.median(\"median household income 2017\")\n",
    "median_income2018 = df.series.median(\"median household income 2018\")\n",
    "median_income2019 = df.series.median(\"median household income 2019\")"
   ]
  },
  {
   "cell_type": "code",
   "execution_count": null,
   "id": "b368c560",
   "metadata": {},
   "outputs": [],
   "source": []
  },
  {
   "cell_type": "code",
   "execution_count": null,
   "id": "443f2404",
   "metadata": {},
   "outputs": [],
   "source": []
  },
  {
   "cell_type": "code",
   "execution_count": null,
   "id": "5dd0d353",
   "metadata": {},
   "outputs": [],
   "source": []
  },
  {
   "cell_type": "code",
   "execution_count": null,
   "id": "6dc2f637",
   "metadata": {},
   "outputs": [],
   "source": []
  },
  {
   "cell_type": "code",
   "execution_count": null,
   "id": "faea8696",
   "metadata": {},
   "outputs": [],
   "source": []
  },
  {
   "cell_type": "code",
   "execution_count": null,
   "id": "c2430ecf",
   "metadata": {},
   "outputs": [],
   "source": []
  },
  {
   "cell_type": "code",
   "execution_count": null,
   "id": "da799593",
   "metadata": {},
   "outputs": [],
   "source": []
  },
  {
   "cell_type": "code",
   "execution_count": null,
   "id": "ec2772e4",
   "metadata": {},
   "outputs": [],
   "source": []
  },
  {
   "cell_type": "code",
   "execution_count": null,
   "id": "c08f7a83",
   "metadata": {},
   "outputs": [],
   "source": [
    "# variables added median national and regional values for income and housing expenses\n",
    "Loop through df.series(year)\n",
    "    For new value in year\n",
    "        df = df.assign(median_percentage = df.median_housing/df.median_income, )\n",
    "df = df.assign[\"Median Income 20X()\"]\n"
   ]
  },
  {
   "cell_type": "code",
   "execution_count": null,
   "id": "3b437b26",
   "metadata": {},
   "outputs": [],
   "source": []
  }
 ],
 "metadata": {
  "kernelspec": {
   "display_name": "Python 3",
   "language": "python",
   "name": "python3"
  },
  "language_info": {
   "codemirror_mode": {
    "name": "ipython",
    "version": 3
   },
   "file_extension": ".py",
   "mimetype": "text/x-python",
   "name": "python",
   "nbconvert_exporter": "python",
   "pygments_lexer": "ipython3",
   "version": "3.8.8"
  }
 },
 "nbformat": 4,
 "nbformat_minor": 5
}
