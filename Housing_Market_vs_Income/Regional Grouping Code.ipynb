{
 "cells": [
  {
   "cell_type": "code",
   "execution_count": null,
   "id": "3a5edc47",
   "metadata": {},
   "outputs": [],
   "source": [
    "# creating a dictionary \n",
    "\n",
    "{\"Region\", ['West': \"AK\", \"HI\", \"CA\", \"NV\", \"OR\", \"WA\", \"ID\", \"MT\", \"CO\", \"WY\", \"UT\", \"AZ\", \"NM\"],\n",
    "\n",
    "['Midwest': \"ND\", \"SD\", \"NE\", \"KS\", \"MN\", \"IA\", \"MO\", \"WI\", \"IL\", \"MI\", \"IN\", \"OH\"],\n",
    "\n",
    "['South': \"[TX\", \"OK\", \"AR\", \"LA\", \"AL\", \"MI\", \"GA\", \"FL\", \"KY\", \"TN\", \"NC\", \"SC\" \"VA\", \"WV\"],\n",
    "\n",
    "['Northeast' = [\"ME\", \"NH\", \"VT\", \"MA\", \"CT\", \"RI\", \"NY\", \"PA\", \"NJ\", \"MD\", \"DE\", \"DC\"]\n",
    " }\n"
   ]
  },
  {
   "cell_type": "code",
   "execution_count": null,
   "id": "18ca99b5",
   "metadata": {},
   "outputs": [],
   "source": [
    "#Creating a new column called \"Region\" to store assigned variables\n",
    "df = df.assign(\"Region\" = \"State\")"
   ]
  },
  {
   "cell_type": "code",
   "execution_count": null,
   "id": "a8760d30",
   "metadata": {},
   "outputs": [],
   "source": [
    "Loop through df.state\n",
    "    For value in df.state\n",
    "        If \n",
    "            df.state = df.state(\"AK\", \"HI\", \"CA\", \"NV\", \"OR\", \"WA\", \"ID\", \"MT\", \"CO\", \"WY\", \"UT\", \"AZ\", \"NM\")\n",
    "               Then print \"West\" in df.series(\"Region\")\n",
    "            df.state = df.state(\"ND\", \"SD\", \"NE\", \"KS\", \"MN\", \"IA\", \"MO\", \"WI\", \"IL\", \"MI\", \"IN\", \"OH\")\n",
    "               Else print \"Midwest\" in df.series(\"Region\")\n",
    "            df.state = df.state(\"TX\", \"OK\", \"AR\", \"LA\", \"AL\", \"MI\", \"GA\", \"FL\", \"KY\", \"TN\", \"NC\", \"SC\" \"VA\", \"WV\")\n",
    "               Else print \"South\" in df.series(\"Region\")\n",
    "            df.state = df.state(\"ME\", \"NH\", \"VT\", \"MA\", \"CT\", \"RI\", \"NY\", \"PA\", \"NJ\", \"MD\", \"DE\", \"DC\")\n",
    "               Else print \"Northeast\" in df.series(\"Region\")\n",
    "            Elseif\n",
    "        End\n",
    "    Exit\n",
    "    "
   ]
  },
  {
   "cell_type": "code",
   "execution_count": null,
   "id": "f37bf582",
   "metadata": {},
   "outputs": [],
   "source": []
  },
  {
   "cell_type": "code",
   "execution_count": 1,
   "id": "b2733e5e",
   "metadata": {},
   "outputs": [
    {
     "ename": "NameError",
     "evalue": "name 'clean_df' is not defined",
     "output_type": "error",
     "traceback": [
      "\u001b[1;31m---------------------------------------------------------------------------\u001b[0m",
      "\u001b[1;31mNameError\u001b[0m                                 Traceback (most recent call last)",
      "\u001b[1;32m<ipython-input-1-bf99d5039335>\u001b[0m in \u001b[0;36m<module>\u001b[1;34m\u001b[0m\n\u001b[0;32m      1\u001b[0m \u001b[1;31m#changing name of series to state code from state\u001b[0m\u001b[1;33m\u001b[0m\u001b[1;33m\u001b[0m\u001b[1;33m\u001b[0m\u001b[0m\n\u001b[1;32m----> 2\u001b[1;33m \u001b[0mrenamed_df\u001b[0m \u001b[1;33m=\u001b[0m \u001b[0mclean_df\u001b[0m\u001b[1;33m.\u001b[0m\u001b[0mrename\u001b[0m\u001b[1;33m(\u001b[0m\u001b[0mcolumns\u001b[0m\u001b[1;33m=\u001b[0m\u001b[1;33m{\u001b[0m\u001b[1;34m\"state\"\u001b[0m\u001b[1;33m:\u001b[0m \u001b[1;34m\"State Code\"\u001b[0m\u001b[1;33m}\u001b[0m\u001b[1;33m)\u001b[0m\u001b[1;33m\u001b[0m\u001b[1;33m\u001b[0m\u001b[0m\n\u001b[0m\u001b[0;32m      3\u001b[0m \u001b[0mrenamed_df\u001b[0m\u001b[1;33m\u001b[0m\u001b[1;33m\u001b[0m\u001b[0m\n",
      "\u001b[1;31mNameError\u001b[0m: name 'clean_df' is not defined"
     ]
    }
   ],
   "source": []
  },
  {
   "cell_type": "code",
   "execution_count": null,
   "id": "d55dfe74",
   "metadata": {},
   "outputs": [],
   "source": []
  },
  {
   "cell_type": "code",
   "execution_count": null,
   "id": "c08f7a83",
   "metadata": {},
   "outputs": [],
   "source": [
    "\n"
   ]
  },
  {
   "cell_type": "code",
   "execution_count": null,
   "id": "3b437b26",
   "metadata": {},
   "outputs": [],
   "source": []
  }
 ],
 "metadata": {
  "kernelspec": {
   "display_name": "Python 3",
   "language": "python",
   "name": "python3"
  },
  "language_info": {
   "codemirror_mode": {
    "name": "ipython",
    "version": 3
   },
   "file_extension": ".py",
   "mimetype": "text/x-python",
   "name": "python",
   "nbconvert_exporter": "python",
   "pygments_lexer": "ipython3",
   "version": "3.8.8"
  }
 },
 "nbformat": 4,
 "nbformat_minor": 5
}
