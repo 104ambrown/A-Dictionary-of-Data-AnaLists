{
 "cells": [
  {
   "cell_type": "code",
   "execution_count": null,
   "id": "5b93e161",
   "metadata": {},
   "outputs": [],
   "source": [
    "(Monthly mortgage/rent payments * 12) / Annual income = % of income spent on housing\n",
    "\n",
    "\n",
    "{\"Region\",\n",
    "     [\"West\": \"Alaska\", \"Hawa'ii\", \"California\", \"Nevada\", \"Oregon\", \"Washington\", \"Idaho\", \"Montana\", \"Colorado\", \"Wyoming\", \"Utah\", \"Arizona\", \"New Mexico\"],\n",
    "     [\"Midwest\": \"N. Dakota\", \"S. Dakota\", \"Nebraska\", \"Kansas\", \"Minnesota\", \"Iowa\", \"Missouri\", \"Wisconsin\", \"Illinois\", \"Michigan\", \"Indiana, Ohio\"],\n",
    "     [\"South\": \"Texas\", \"Oklahoma\", \"Arkansas\", \"Louisiana\", \"Alabama\", \"Mississippi\", \"Georgia\", \"Florida\", \"Kentucky\", \"Tennessee\", \"N. Carolina\", \"S. Carolina\", \"Virginia\", \"W. Virginia\"],\n",
    "     [\"Northeast\": \"Maine\", \"New Hampshire\", \"Vermont\", \"Massachusetts\", \"Connecticut\", \"Rhode Island\", \"New York\", \"Pennsylvania\", \"New Jersey\", \"Maryland\", \"Delaware\", \"District of Columbia\"]\n",
    "}\n"
   ]
  },
  {
   "cell_type": "code",
   "execution_count": null,
   "id": "4230e5a6",
   "metadata": {},
   "outputs": [],
   "source": [
    "# setting index by state\n",
    "state_df = state_df.set_index(\"State\")\n",
    "df.head()"
   ]
  },
  {
   "cell_type": "code",
   "execution_count": null,
   "id": "3c775f1c",
   "metadata": {},
   "outputs": [],
   "source": [
    "#groupby region\n",
    "region_df = state_df.groupby([\"Region\", \"State\"])"
   ]
  },
  {
   "cell_type": "code",
   "execution_count": null,
   "id": "9f7c86ad",
   "metadata": {},
   "outputs": [],
   "source": []
  },
  {
   "cell_type": "code",
   "execution_count": null,
   "id": "1a52e7b1",
   "metadata": {},
   "outputs": [],
   "source": []
  },
  {
   "cell_type": "code",
   "execution_count": null,
   "id": "a919d268",
   "metadata": {},
   "outputs": [],
   "source": []
  },
  {
   "cell_type": "code",
   "execution_count": null,
   "id": "3bcbf0c1",
   "metadata": {},
   "outputs": [],
   "source": []
  },
  {
   "cell_type": "code",
   "execution_count": null,
   "id": "b1e177d1",
   "metadata": {},
   "outputs": [],
   "source": [
    "#"
   ]
  }
 ],
 "metadata": {
  "kernelspec": {
   "display_name": "Python 3",
   "language": "python",
   "name": "python3"
  },
  "language_info": {
   "codemirror_mode": {
    "name": "ipython",
    "version": 3
   },
   "file_extension": ".py",
   "mimetype": "text/x-python",
   "name": "python",
   "nbconvert_exporter": "python",
   "pygments_lexer": "ipython3",
   "version": "3.8.8"
  }
 },
 "nbformat": 4,
 "nbformat_minor": 5
}
