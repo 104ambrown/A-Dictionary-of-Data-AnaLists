{
 "cells": [
  {
   "cell_type": "code",
   "execution_count": 3,
   "id": "becce465",
   "metadata": {},
   "outputs": [],
   "source": [
    "import pandas as pd\n",
    "import matplotlib.pyplot as plt\n",
    "import numpy as np"
   ]
  },
  {
   "cell_type": "code",
   "execution_count": 4,
   "id": "487b14fd",
   "metadata": {},
   "outputs": [
    {
     "data": {
      "text/html": [
       "<div>\n",
       "<style scoped>\n",
       "    .dataframe tbody tr th:only-of-type {\n",
       "        vertical-align: middle;\n",
       "    }\n",
       "\n",
       "    .dataframe tbody tr th {\n",
       "        vertical-align: top;\n",
       "    }\n",
       "\n",
       "    .dataframe thead th {\n",
       "        text-align: right;\n",
       "    }\n",
       "</style>\n",
       "<table border=\"1\" class=\"dataframe\">\n",
       "  <thead>\n",
       "    <tr style=\"text-align: right;\">\n",
       "      <th></th>\n",
       "      <th>Name</th>\n",
       "      <th>2019 Household Income</th>\n",
       "      <th>2019 Per Capita Income</th>\n",
       "      <th>2019 Population</th>\n",
       "      <th>2019 Median Age</th>\n",
       "      <th>2019 Median Rent</th>\n",
       "      <th>2019 Avg Year Home Built</th>\n",
       "      <th>2019 Median Mortgage Cost</th>\n",
       "      <th>state_x</th>\n",
       "      <th>Zipcode_x</th>\n",
       "      <th>...</th>\n",
       "      <th>Zipcode_y.3</th>\n",
       "      <th>2011 Household Income</th>\n",
       "      <th>2011 Per Capita Income</th>\n",
       "      <th>2011 Population</th>\n",
       "      <th>2011 Median Age</th>\n",
       "      <th>2011 Median Rent</th>\n",
       "      <th>2011 Avg Year Home Built</th>\n",
       "      <th>2011 Median Mortgage Cost</th>\n",
       "      <th>state</th>\n",
       "      <th>Zipcode</th>\n",
       "    </tr>\n",
       "  </thead>\n",
       "  <tbody>\n",
       "    <tr>\n",
       "      <th>0</th>\n",
       "      <td>ZCTA5 01001</td>\n",
       "      <td>63949</td>\n",
       "      <td>36540</td>\n",
       "      <td>17312</td>\n",
       "      <td>46.1</td>\n",
       "      <td>1025</td>\n",
       "      <td>1968</td>\n",
       "      <td>1506</td>\n",
       "      <td>MA</td>\n",
       "      <td>1001</td>\n",
       "      <td>...</td>\n",
       "      <td>1001</td>\n",
       "      <td>59453</td>\n",
       "      <td>28931</td>\n",
       "      <td>16775</td>\n",
       "      <td>44.1</td>\n",
       "      <td>768</td>\n",
       "      <td>1963</td>\n",
       "      <td>1606</td>\n",
       "      <td>MA</td>\n",
       "      <td>1001</td>\n",
       "    </tr>\n",
       "    <tr>\n",
       "      <th>1</th>\n",
       "      <td>ZCTA5 01002</td>\n",
       "      <td>61159</td>\n",
       "      <td>30847</td>\n",
       "      <td>30014</td>\n",
       "      <td>23.4</td>\n",
       "      <td>1280</td>\n",
       "      <td>1973</td>\n",
       "      <td>2330</td>\n",
       "      <td>MA</td>\n",
       "      <td>1002</td>\n",
       "      <td>...</td>\n",
       "      <td>1002</td>\n",
       "      <td>54395</td>\n",
       "      <td>30110</td>\n",
       "      <td>27684</td>\n",
       "      <td>23.8</td>\n",
       "      <td>966</td>\n",
       "      <td>1972</td>\n",
       "      <td>2133</td>\n",
       "      <td>MA</td>\n",
       "      <td>1002</td>\n",
       "    </tr>\n",
       "    <tr>\n",
       "      <th>2</th>\n",
       "      <td>ZCTA5 01005</td>\n",
       "      <td>67302</td>\n",
       "      <td>37464</td>\n",
       "      <td>5128</td>\n",
       "      <td>48.1</td>\n",
       "      <td>831</td>\n",
       "      <td>1973</td>\n",
       "      <td>1555</td>\n",
       "      <td>MA</td>\n",
       "      <td>1005</td>\n",
       "      <td>...</td>\n",
       "      <td>1005</td>\n",
       "      <td>74167</td>\n",
       "      <td>33510</td>\n",
       "      <td>5045</td>\n",
       "      <td>42.8</td>\n",
       "      <td>723</td>\n",
       "      <td>1965</td>\n",
       "      <td>1846</td>\n",
       "      <td>MA</td>\n",
       "      <td>1005</td>\n",
       "    </tr>\n",
       "    <tr>\n",
       "      <th>3</th>\n",
       "      <td>ZCTA5 01007</td>\n",
       "      <td>91191</td>\n",
       "      <td>41753</td>\n",
       "      <td>15005</td>\n",
       "      <td>42.3</td>\n",
       "      <td>909</td>\n",
       "      <td>1983</td>\n",
       "      <td>1884</td>\n",
       "      <td>MA</td>\n",
       "      <td>1007</td>\n",
       "      <td>...</td>\n",
       "      <td>1007</td>\n",
       "      <td>75502</td>\n",
       "      <td>32898</td>\n",
       "      <td>14479</td>\n",
       "      <td>40.5</td>\n",
       "      <td>662</td>\n",
       "      <td>1983</td>\n",
       "      <td>1858</td>\n",
       "      <td>MA</td>\n",
       "      <td>1007</td>\n",
       "    </tr>\n",
       "    <tr>\n",
       "      <th>4</th>\n",
       "      <td>ZCTA5 01008</td>\n",
       "      <td>76333</td>\n",
       "      <td>40146</td>\n",
       "      <td>1140</td>\n",
       "      <td>54.0</td>\n",
       "      <td>0</td>\n",
       "      <td>1962</td>\n",
       "      <td>1581</td>\n",
       "      <td>MA</td>\n",
       "      <td>1008</td>\n",
       "      <td>...</td>\n",
       "      <td>1008</td>\n",
       "      <td>78563</td>\n",
       "      <td>36374</td>\n",
       "      <td>1196</td>\n",
       "      <td>47.0</td>\n",
       "      <td>675</td>\n",
       "      <td>1960</td>\n",
       "      <td>1615</td>\n",
       "      <td>MA</td>\n",
       "      <td>1008</td>\n",
       "    </tr>\n",
       "  </tbody>\n",
       "</table>\n",
       "<p>5 rows × 82 columns</p>\n",
       "</div>"
      ],
      "text/plain": [
       "          Name  2019 Household Income  2019 Per Capita Income  \\\n",
       "0  ZCTA5 01001                  63949                   36540   \n",
       "1  ZCTA5 01002                  61159                   30847   \n",
       "2  ZCTA5 01005                  67302                   37464   \n",
       "3  ZCTA5 01007                  91191                   41753   \n",
       "4  ZCTA5 01008                  76333                   40146   \n",
       "\n",
       "   2019 Population  2019 Median Age  2019 Median Rent  \\\n",
       "0            17312             46.1              1025   \n",
       "1            30014             23.4              1280   \n",
       "2             5128             48.1               831   \n",
       "3            15005             42.3               909   \n",
       "4             1140             54.0                 0   \n",
       "\n",
       "   2019 Avg Year Home Built  2019 Median Mortgage Cost state_x  Zipcode_x  \\\n",
       "0                      1968                       1506      MA       1001   \n",
       "1                      1973                       2330      MA       1002   \n",
       "2                      1973                       1555      MA       1005   \n",
       "3                      1983                       1884      MA       1007   \n",
       "4                      1962                       1581      MA       1008   \n",
       "\n",
       "   ...  Zipcode_y.3  2011 Household Income  2011 Per Capita Income  \\\n",
       "0  ...         1001                  59453                   28931   \n",
       "1  ...         1002                  54395                   30110   \n",
       "2  ...         1005                  74167                   33510   \n",
       "3  ...         1007                  75502                   32898   \n",
       "4  ...         1008                  78563                   36374   \n",
       "\n",
       "   2011 Population  2011 Median Age  2011 Median Rent  \\\n",
       "0            16775             44.1               768   \n",
       "1            27684             23.8               966   \n",
       "2             5045             42.8               723   \n",
       "3            14479             40.5               662   \n",
       "4             1196             47.0               675   \n",
       "\n",
       "   2011 Avg Year Home Built 2011 Median Mortgage Cost  state  Zipcode  \n",
       "0                      1963                      1606     MA     1001  \n",
       "1                      1972                      2133     MA     1002  \n",
       "2                      1965                      1846     MA     1005  \n",
       "3                      1983                      1858     MA     1007  \n",
       "4                      1960                      1615     MA     1008  \n",
       "\n",
       "[5 rows x 82 columns]"
      ]
     },
     "execution_count": 4,
     "metadata": {},
     "output_type": "execute_result"
    }
   ],
   "source": [
    "dataFile = \"../08-Project-1/Resources/final2_merge_census_database.csv\"\n",
    "censusData = pd.read_csv(dataFile)\n",
    "censusData.head()"
   ]
  },
  {
   "cell_type": "code",
   "execution_count": 5,
   "id": "ae14d605",
   "metadata": {},
   "outputs": [],
   "source": [
    "#df[\"a*b\"] = df[\"a\"] * df[\"b\"]\n",
    "censusData2019IncomeAverage = censusData[\"2019 Household Income\"].mean()\n",
    "censusData2018IncomeAverage = censusData[\"2018 Household Income\"].mean()\n",
    "censusData2017IncomeAverage = censusData[\"2017 Household Income\"].mean()\n",
    "censusData2016IncomeAverage = censusData[\"2016 Household Income\"].mean()\n",
    "censusData2015IncomeAverage = censusData[\"2015 Household Income\"].mean()\n",
    "censusData2014IncomeAverage = censusData[\"2014 Household Income\"].mean()\n",
    "censusData2013IncomeAverage = censusData[\"2013 Household Income\"].mean()\n",
    "censusData2012IncomeAverage = censusData[\"2012 Household Income\"].mean()\n",
    "censusData2011IncomeAverage = censusData[\"2011 Household Income\"].mean()"
   ]
  },
  {
   "cell_type": "code",
   "execution_count": 6,
   "id": "1d2c8f2e",
   "metadata": {},
   "outputs": [
    {
     "data": {
      "text/plain": [
       "16199.416378784801"
      ]
     },
     "execution_count": 6,
     "metadata": {},
     "output_type": "execute_result"
    }
   ],
   "source": [
    "censusData2019MortgageAverage = censusData[\"2019 Median Mortgage Cost\"].mean()\n",
    "censusData2019MortgageResults = censusData2019MortgageAverage * 12\n",
    "\n",
    "censusData2018MortgageAverage = censusData[\"2018 Median Mortgage Cost\"].mean()\n",
    "censusData2018MortgageResults = censusData2018MortgageAverage * 12\n",
    "\n",
    "censusData2017MortgageAverage = censusData[\"2017 Median Mortgage Cost\"].mean()\n",
    "censusData2017MortgageResults = censusData2017MortgageAverage * 12\n",
    "\n",
    "censusData2016MortgageAverage = censusData[\"2016 Median Mortgage Cost\"].mean()\n",
    "censusData2016MortgageResults = censusData2016MortgageAverage * 12\n",
    "\n",
    "censusData2015MortgageAverage = censusData[\"2015 Median Mortgage Cost\"].mean()\n",
    "censusData2015MortgageResults = censusData2015MortgageAverage * 12\n",
    "\n",
    "censusData2014MortgageAverage = censusData[\"2014 Median Mortgage Cost\"].mean()\n",
    "censusData2014MortgageResults = censusData2014MortgageAverage * 12\n",
    "\n",
    "censusData2013MortgageAverage = censusData[\"2013 Median Mortgage Cost\"].mean()\n",
    "censusData2013MortgageResults = censusData2013MortgageAverage * 12\n",
    "\n",
    "censusData2012MortgageAverage = censusData[\"2012 Median Mortgage Cost\"].mean()\n",
    "censusData2012MortgageResults = censusData2012MortgageAverage * 12\n",
    "\n",
    "censusData2011MortgageAverage = censusData[\"2011 Median Mortgage Cost\"].mean()\n",
    "censusData2011MortgageResults = censusData2011MortgageAverage * 12\n",
    "censusData2011MortgageResults"
   ]
  },
  {
   "cell_type": "code",
   "execution_count": 7,
   "id": "109ce5b3",
   "metadata": {},
   "outputs": [
    {
     "data": {
      "image/png": "[encoded data removed]",
      "text/plain": [
       "<Figure size 432x288 with 1 Axes>"
      ]
     },
     "metadata": {
      "needs_background": "light"
     },
     "output_type": "display_data"
    }
   ],
   "source": [
    "averageMortgage = [censusData2011MortgageResults, censusData2012MortgageResults, censusData2013MortgageResults,\n",
    "                  censusData2014MortgageResults, censusData2015MortgageResults, censusData2016MortgageResults,\n",
    "                  censusData2017MortgageResults, censusData2018MortgageResults, censusData2019MortgageResults]\n",
    "yearsonChart = [\"2011\", \"2012\", \"2013\", \"2014\", \"2015\", \"2016\", \"2017\", \"2018\", \"2019\"]\n",
    "plt.plot(yearsonChart, averageMortgage)\n",
    "plt.title(\"Average Mortgage From 2011 to 2019\")\n",
    "plt.xlabel(\"Years\")\n",
    "plt.ylabel(\"Mortgage Amount (in USD)\")\n",
    "plt.show()"
   ]
  },
  {
   "cell_type": "code",
   "execution_count": 8,
   "id": "5860d8ea",
   "metadata": {},
   "outputs": [
    {
     "data": {
      "image/png": "[encoded data removed]",
      "text/plain": [
       "<Figure size 432x288 with 1 Axes>"
      ]
     },
     "metadata": {
      "needs_background": "light"
     },
     "output_type": "display_data"
    }
   ],
   "source": [
    "averageIncome = [censusData2011IncomeAverage, censusData2012IncomeAverage, censusData2013IncomeAverage,\n",
    "                  censusData2014IncomeAverage, censusData2015IncomeAverage, censusData2016IncomeAverage,\n",
    "                  censusData2017IncomeAverage, censusData2018IncomeAverage, censusData2019IncomeAverage,]\n",
    "yearsonChart = [\"2011\", \"2012\", \"2013\", \"2014\", \"2015\", \"2016\", \"2017\", \"2018\", \"2019\"]\n",
    "plt.plot(yearsonChart, averageIncome)\n",
    "plt.title(\"Average Income From 2011 to 2019\")\n",
    "plt.xlabel(\"Years\")\n",
    "plt.ylabel(\"Income Amount (in USD)\")\n",
    "plt.show()"
   ]
  },
  {
   "cell_type": "code",
   "execution_count": 9,
   "id": "b64c9eb3",
   "metadata": {},
   "outputs": [
    {
     "data": {
      "text/html": [
       "<div>\n",
       "<style scoped>\n",
       "    .dataframe tbody tr th:only-of-type {\n",
       "        vertical-align: middle;\n",
       "    }\n",
       "\n",
       "    .dataframe tbody tr th {\n",
       "        vertical-align: top;\n",
       "    }\n",
       "\n",
       "    .dataframe thead th {\n",
       "        text-align: right;\n",
       "    }\n",
       "</style>\n",
       "<table border=\"1\" class=\"dataframe\">\n",
       "  <thead>\n",
       "    <tr style=\"text-align: right;\">\n",
       "      <th></th>\n",
       "      <th>Year</th>\n",
       "      <th>National Average Income</th>\n",
       "      <th>National Average Mortgage</th>\n",
       "    </tr>\n",
       "  </thead>\n",
       "  <tbody>\n",
       "    <tr>\n",
       "      <th>0</th>\n",
       "      <td>2011</td>\n",
       "      <td>51871.353722</td>\n",
       "      <td>16199.416379</td>\n",
       "    </tr>\n",
       "    <tr>\n",
       "      <th>1</th>\n",
       "      <td>2012</td>\n",
       "      <td>52253.715132</td>\n",
       "      <td>16264.078033</td>\n",
       "    </tr>\n",
       "    <tr>\n",
       "      <th>2</th>\n",
       "      <td>2013</td>\n",
       "      <td>52494.194236</td>\n",
       "      <td>16072.181264</td>\n",
       "    </tr>\n",
       "    <tr>\n",
       "      <th>3</th>\n",
       "      <td>2014</td>\n",
       "      <td>53149.104958</td>\n",
       "      <td>16014.273522</td>\n",
       "    </tr>\n",
       "    <tr>\n",
       "      <th>4</th>\n",
       "      <td>2015</td>\n",
       "      <td>53785.265361</td>\n",
       "      <td>15874.073787</td>\n",
       "    </tr>\n",
       "    <tr>\n",
       "      <th>5</th>\n",
       "      <td>2016</td>\n",
       "      <td>55022.393416</td>\n",
       "      <td>15718.457224</td>\n",
       "    </tr>\n",
       "    <tr>\n",
       "      <th>6</th>\n",
       "      <td>2017</td>\n",
       "      <td>57114.973515</td>\n",
       "      <td>15939.342410</td>\n",
       "    </tr>\n",
       "    <tr>\n",
       "      <th>7</th>\n",
       "      <td>2018</td>\n",
       "      <td>59359.490178</td>\n",
       "      <td>16305.449299</td>\n",
       "    </tr>\n",
       "    <tr>\n",
       "      <th>8</th>\n",
       "      <td>2019</td>\n",
       "      <td>61641.759873</td>\n",
       "      <td>16610.881935</td>\n",
       "    </tr>\n",
       "  </tbody>\n",
       "</table>\n",
       "</div>"
      ],
      "text/plain": [
       "   Year  National Average Income  National Average Mortgage\n",
       "0  2011             51871.353722               16199.416379\n",
       "1  2012             52253.715132               16264.078033\n",
       "2  2013             52494.194236               16072.181264\n",
       "3  2014             53149.104958               16014.273522\n",
       "4  2015             53785.265361               15874.073787\n",
       "5  2016             55022.393416               15718.457224\n",
       "6  2017             57114.973515               15939.342410\n",
       "7  2018             59359.490178               16305.449299\n",
       "8  2019             61641.759873               16610.881935"
      ]
     },
     "execution_count": 9,
     "metadata": {},
     "output_type": "execute_result"
    }
   ],
   "source": [
    "#nationalAverage2019 = (censusData2019MortgageResults / censusData2019IncomeAverage) * 100\n",
    "nationalDF = pd.DataFrame({\"Year\": yearsonChart,\n",
    "                                    \"National Average Income\": averageIncome,\n",
    "                                    \"National Average Mortgage\": averageMortgage,})\n",
    "nationalDF"
   ]
  },
  {
   "cell_type": "code",
   "execution_count": 17,
   "id": "39e11920",
   "metadata": {},
   "outputs": [
    {
     "data": {
      "image/png": "[encoded data removed]",
      "text/plain": [
       "<Figure size 432x288 with 1 Axes>"
      ]
     },
     "metadata": {
      "needs_background": "light"
     },
     "output_type": "display_data"
    }
   ],
   "source": [
    "plt.plot(yearsonChart, averageMortgage, label='Mortgage')\n",
    "plt.plot(yearsonChart, averageIncome, label='Income')\n",
    "plt.title(\"Average Mortgage From 2011 to 2019\")\n",
    "plt.xlabel(\"Years\")\n",
    "plt.ylabel(\"Mortgage Amount (in USD)\")\n",
    "plt.show()"
   ]
  },
  {
   "cell_type": "code",
   "execution_count": 30,
   "id": "3b27336a",
   "metadata": {},
   "outputs": [],
   "source": [
    "# Variables to find the rent averages.\n",
    "censusData2019RentAverage = censusData[\"2019 Median Rent\"].mean()\n",
    "censusData2019RentResults = censusData2019RentAverage * 12\n",
    "\n",
    "censusData2018RentAverage = censusData[\"2018 Median Rent\"].mean()\n",
    "censusData2018RentResults = censusData2018RentAverage * 12\n",
    "\n",
    "censusData2017RentAverage = censusData[\"2017 Median Rent\"].mean()\n",
    "censusData2017RentResults = censusData2017RentAverage * 12\n",
    "\n",
    "censusData2016RentAverage = censusData[\"2016 Median Rent\"].mean()\n",
    "censusData2016RentResults = censusData2016RentAverage * 12\n",
    "\n",
    "censusData2015RentAverage = censusData[\"2015 Median Rent\"].mean()\n",
    "censusData2015RentResults = censusData2015RentAverage * 12\n",
    "\n",
    "censusData2014RentAverage = censusData[\"2014 Median Rent\"].mean()\n",
    "censusData2014RentResults = censusData2014RentAverage * 12\n",
    "\n",
    "censusData2013RentAverage = censusData[\"2013 Median Rent\"].mean()\n",
    "censusData2013RentResults = censusData2013RentAverage * 12\n",
    "\n",
    "censusData2012RentAverage = censusData[\"2012 Median Rent\"].mean()\n",
    "censusData2012RentResults = censusData2012RentAverage * 12\n",
    "\n",
    "censusData2011RentAverage = censusData[\"2011 Median Rent\"].mean()\n",
    "censusData2011RentResults = censusData2011RentAverage * 12"
   ]
  },
  {
   "cell_type": "code",
   "execution_count": 31,
   "id": "100ae309",
   "metadata": {},
   "outputs": [
    {
     "data": {
      "image/png": "[encoded data removed]",
      "text/plain": [
       "<Figure size 432x288 with 1 Axes>"
      ]
     },
     "metadata": {
      "needs_background": "light"
     },
     "output_type": "display_data"
    }
   ],
   "source": [
    "averageRentalCosts = [censusData2011RentResults, censusData2012RentResults, censusData2013RentResults,\n",
    "                  censusData2014RentResults, censusData2015RentResults, censusData2016RentResults,\n",
    "                  censusData2017RentResults, censusData2018RentResults, censusData2019RentResults,]\n",
    "yearsonChart = [\"2011\", \"2012\", \"2013\", \"2014\", \"2015\", \"2016\", \"2017\", \"2018\", \"2019\"]\n",
    "plt.plot(yearsonChart, averageRentalCosts)\n",
    "plt.title(\"Average Rental Costs From 2011 to 2019\")\n",
    "plt.xlabel(\"Years\")\n",
    "plt.ylabel(\"Rental Amount (in USD)\")\n",
    "plt.show()"
   ]
  },
  {
   "cell_type": "code",
   "execution_count": 32,
   "id": "c122c4c7",
   "metadata": {},
   "outputs": [
    {
     "data": {
      "image/png": "[encoded data removed]",
      "text/plain": [
       "<Figure size 432x288 with 1 Axes>"
      ]
     },
     "metadata": {
      "needs_background": "light"
     },
     "output_type": "display_data"
    }
   ],
   "source": [
    "plt.plot(yearsonChart, averageRentalCosts, label='Rent')\n",
    "plt.plot(yearsonChart, averageIncome, label='Income')\n",
    "#plt.plot(yearsonChart, averageMortgage, label='Mortgage')\n",
    "\n",
    "plt.title(\"Average Rental Costs From 2011 to 2019\")\n",
    "plt.xlabel(\"Years\")\n",
    "plt.ylabel(\"Rental Amount (in USD)\")\n",
    "plt.legend()\n",
    "plt.show()"
   ]
  },
  {
   "cell_type": "code",
   "execution_count": null,
   "id": "969e1ad5",
   "metadata": {},
   "outputs": [],
   "source": []
  }
 ],
 "metadata": {
  "kernelspec": {
   "display_name": "Python 3",
   "language": "python",
   "name": "python3"
  },
  "language_info": {
   "codemirror_mode": {
    "name": "ipython",
    "version": 3
   },
   "file_extension": ".py",
   "mimetype": "text/x-python",
   "name": "python",
   "nbconvert_exporter": "python",
   "pygments_lexer": "ipython3",
   "version": "3.8.8"
  }
 },
 "nbformat": 4,
 "nbformat_minor": 5
}
